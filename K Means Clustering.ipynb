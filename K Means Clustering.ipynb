
  {
   "cell_type": "code",
   "execution_count": 1,
   "id": "22f46950",
   "metadata": {},
   "outputs": [],
   "source": [
    "# LIBRARIES\n",
    "import numpy as np\n",
    "import pandas as pd\n",
    "import matplotlib.pyplot as plt"
   ]
  },
  {
   "cell_type": "code",
   "execution_count": 2,
   "id": "ca81055c",
   "metadata": {},
   "outputs": [
    {
     "data": {
      "text/html": [
       "<div>\n",
       "<style scoped>\n",
       "    .dataframe tbody tr th:only-of-type {\n",
       "        vertical-align: middle;\n",
       "    }\n",
       "\n",
       "    .dataframe tbody tr th {\n",
       "        vertical-align: top;\n",
       "    }\n",
       "\n",
       "    .dataframe thead th {\n",
       "        text-align: right;\n",
       "    }\n",
       "</style>\n",
       "<table border=\"1\" class=\"dataframe\">\n",
       "  <thead>\n",
       "    <tr style=\"text-align: right;\">\n",
       "      <th></th>\n",
       "      <th>Alcohol</th>\n",
       "      <th>Malic_Acid</th>\n",
       "      <th>Ash</th>\n",
       "      <th>Ash_Alcanity</th>\n",
       "      <th>Magnesium</th>\n",
       "      <th>Total_Phenols</th>\n",
       "      <th>Flavanoids</th>\n",
       "      <th>Nonflavanoid_Phenols</th>\n",
       "      <th>Proanthocyanins</th>\n",
       "      <th>Color_Intensity</th>\n",
       "      <th>Hue</th>\n",
       "      <th>OD280</th>\n",
       "      <th>Proline</th>\n",
       "    </tr>\n",
       "  </thead>\n",
       "  <tbody>\n",
       "    <tr>\n",
       "      <th>0</th>\n",
       "      <td>14.23</td>\n",
       "      <td>1.71</td>\n",
       "      <td>2.43</td>\n",
       "      <td>15.6</td>\n",
       "      <td>127</td>\n",
       "      <td>2.80</td>\n",
       "      <td>3.06</td>\n",
       "      <td>0.28</td>\n",
       "      <td>2.29</td>\n",
       "      <td>5.64</td>\n",
       "      <td>1.04</td>\n",
       "      <td>3.92</td>\n",
       "      <td>1065</td>\n",
       "    </tr>\n",
       "    <tr>\n",
       "      <th>1</th>\n",
       "      <td>13.20</td>\n",
       "      <td>1.78</td>\n",
       "      <td>2.14</td>\n",
       "      <td>11.2</td>\n",
       "      <td>100</td>\n",
       "      <td>2.65</td>\n",
       "      <td>2.76</td>\n",
       "      <td>0.26</td>\n",
       "      <td>1.28</td>\n",
       "      <td>4.38</td>\n",
       "      <td>1.05</td>\n",
       "      <td>3.40</td>\n",
       "      <td>1050</td>\n",
       "    </tr>\n",
       "    <tr>\n",
       "      <th>2</th>\n",
       "      <td>13.16</td>\n",
       "      <td>2.36</td>\n",
       "      <td>2.67</td>\n",
       "      <td>18.6</td>\n",
       "      <td>101</td>\n",
       "      <td>2.80</td>\n",
       "      <td>3.24</td>\n",
       "      <td>0.30</td>\n",
       "      <td>2.81</td>\n",
       "      <td>5.68</td>\n",
       "      <td>1.03</td>\n",
       "      <td>3.17</td>\n",
       "      <td>1185</td>\n",
       "    </tr>\n",
       "    <tr>\n",
       "      <th>3</th>\n",
       "      <td>14.37</td>\n",
       "      <td>1.95</td>\n",
       "      <td>2.50</td>\n",
       "      <td>16.8</td>\n",
       "      <td>113</td>\n",
       "      <td>3.85</td>\n",
       "      <td>3.49</td>\n",
       "      <td>0.24</td>\n",
       "      <td>2.18</td>\n",
       "      <td>7.80</td>\n",
       "      <td>0.86</td>\n",
       "      <td>3.45</td>\n",
       "      <td>1480</td>\n",
       "    </tr>\n",
       "    <tr>\n",
       "      <th>4</th>\n",
       "      <td>13.24</td>\n",
       "      <td>2.59</td>\n",
       "      <td>2.87</td>\n",
       "      <td>21.0</td>\n",
       "      <td>118</td>\n",
       "      <td>2.80</td>\n",
       "      <td>2.69</td>\n",
       "      <td>0.39</td>\n",
       "      <td>1.82</td>\n",
       "      <td>4.32</td>\n",
       "      <td>1.04</td>\n",
       "      <td>2.93</td>\n",
       "      <td>735</td>\n",
       "    </tr>\n",
       "  </tbody>\n",
       "</table>\n",
       "</div>"
      ],
      "text/plain": [
       "   Alcohol  Malic_Acid   Ash  Ash_Alcanity  Magnesium  Total_Phenols  \\\n",
       "0    14.23        1.71  2.43          15.6        127           2.80   \n",
       "1    13.20        1.78  2.14          11.2        100           2.65   \n",
       "2    13.16        2.36  2.67          18.6        101           2.80   \n",
       "3    14.37        1.95  2.50          16.8        113           3.85   \n",
       "4    13.24        2.59  2.87          21.0        118           2.80   \n",
       "\n",
       "   Flavanoids  Nonflavanoid_Phenols  Proanthocyanins  Color_Intensity   Hue  \\\n",
       "0        3.06                  0.28             2.29             5.64  1.04   \n",
       "1        2.76                  0.26             1.28             4.38  1.05   \n",
       "2        3.24                  0.30             2.81             5.68  1.03   \n",
       "3        3.49                  0.24             2.18             7.80  0.86   \n",
       "4        2.69                  0.39             1.82             4.32  1.04   \n",
       "\n",
       "   OD280  Proline  \n",
       "0   3.92     1065  \n",
       "1   3.40     1050  \n",
       "2   3.17     1185  \n",
       "3   3.45     1480  \n",
       "4   2.93      735  "
      ]
     },
     "execution_count": 2,
     "metadata": {},
     "output_type": "execute_result"
    }
   ],
   "source": [
    "# IMPORT DATASET THEN SPLIT INDEPENDENT AND DEPENDENT VARIABLE\n",
    "df = pd.read_csv('wine-clustering.csv')\n",
    "df.head()"
   ]
  },
  {
   "cell_type": "code",
   "execution_count": 3,
   "id": "2f234564",
   "metadata": {},
   "outputs": [
    {
     "data": {
      "text/plain": [
       "(168, 13)"
      ]
     },
     "execution_count": 3,
     "metadata": {},
     "output_type": "execute_result"
    }
   ],
   "source": [
    "for x in range(13): \n",
    "    df = df[df.iloc[:, x]<=(df.iloc[:, x].mean()+3*df.iloc[:, x].std())] #upper bound\n",
    "    df = df[df.iloc[:, x]>=(df.iloc[:, x].mean()-3*df.iloc[:, x].std())] #lower bound\n",
    "\n",
    "df.shape"
   ]
  },
  {
   "cell_type": "code",
   "execution_count": 4,
   "id": "710cd4e7",
   "metadata": {
    "scrolled": false
   },
   "outputs": [
    {
     "name": "stderr",
     "output_type": "stream",
     "text": [
      "D:\\Paulo\\anaconda3\\lib\\site-packages\\sklearn\\cluster\\_kmeans.py:881: UserWarning: KMeans is known to have a memory leak on Windows with MKL, when there are less chunks than available threads. You can avoid it by setting the environment variable OMP_NUM_THREADS=1.\n",
      "  warnings.warn(\n"
     ]
    },
    {
     "data": {
      "image/png": "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\n",
      "text/plain": [
       "<Figure size 432x288 with 1 Axes>"
      ]
     },
     "metadata": {
      "needs_background": "light"
     },
     "output_type": "display_data"
    }
   ],
   "source": [
    "#Elbow Method to find optimal K-means clusters\n",
    "from sklearn.cluster import KMeans\n",
    "wcss = []\n",
    "#rang(1,11) means 1 to 10\n",
    "for i in range(1, 11):\n",
    "    kmeans = KMeans(n_clusters = i, init = 'k-means++', random_state = 69)\n",
    "    kmeans.fit(df)\n",
    "    wcss.append(kmeans.inertia_)\n",
    "\n",
    "plt.plot(range(1,11), wcss)\n",
    "plt.title('Elbow Method')\n",
    "plt.xlabel('# of Clusters')\n",
    "plt.xticks(np.arange(1,11))\n",
    "plt.ylabel('WCSS')\n",
    "plt.show()"
   ]
  },
  {
   "cell_type": "code",
   "execution_count": 5,
   "id": "5c8065eb",
   "metadata": {},
   "outputs": [],
   "source": [
    "#PCA Application only for Visualization Purpose\n",
    "from sklearn.decomposition import PCA\n",
    "pca = PCA(n_components = 2)\n",
    "pca_data = pca.fit_transform(df)"
   ]
  },
  {
   "cell_type": "code",
   "execution_count": 6,
   "id": "ccb47d8e",
   "metadata": {},
   "outputs": [
    {
     "name": "stdout",
     "output_type": "stream",
     "text": [
      "[[0.00 35.12]\n",
      " [1.00 27.38]\n",
      " [2.00 37.50]]\n"
     ]
    }
   ],
   "source": [
    "#Model Training\n",
    "kmeans = KMeans(n_clusters = 3, init = 'k-means++', random_state = 69)\n",
    "y_kmeans = kmeans.fit_predict(df)\n",
    "\n",
    "unique, counts = np.unique(y_kmeans, return_counts=True)\n",
    "\n",
    "np.set_printoptions(formatter={'float': lambda x: \"{0:0.2f}\".format(x)})\n",
    "print(np.asarray((unique, counts/168*100)).T)"
   ]
  },
  {
   "cell_type": "code",
   "execution_count": 7,
   "id": "e88ac493",
   "metadata": {
    "collapsed": true
   },
   "outputs": [
    {
     "data": {
      "text/plain": [
       "Alcohol                  12.922373\n",
       "Malic_Acid                2.572373\n",
       "Ash                       2.407458\n",
       "Ash_Alcanity             19.854237\n",
       "Magnesium               101.508475\n",
       "Total_Phenols             2.092034\n",
       "Flavanoids                1.546949\n",
       "Nonflavanoid_Phenols      0.392373\n",
       "Proanthocyanins           1.417288\n",
       "Color_Intensity           5.647627\n",
       "Hue                       0.873831\n",
       "OD280                     2.338136\n",
       "Proline                 722.067797\n",
       "dtype: float64"
      ]
     },
     "execution_count": 7,
     "metadata": {},
     "output_type": "execute_result"
    }
   ],
   "source": [
    "#select from 0 to 4 to see the average values under each clusters\n",
    "df.iloc[y_kmeans == 0].mean()"
   ]
  },
  {
   "cell_type": "code",
   "execution_count": 11,
   "id": "a64420de",
   "metadata": {
    "collapsed": true
   },
   "outputs": [
    {
     "data": {
      "text/html": [
       "<div>\n",
       "<style scoped>\n",
       "    .dataframe tbody tr th:only-of-type {\n",
       "        vertical-align: middle;\n",
       "    }\n",
       "\n",
       "    .dataframe tbody tr th {\n",
       "        vertical-align: top;\n",
       "    }\n",
       "\n",
       "    .dataframe thead th {\n",
       "        text-align: right;\n",
       "    }\n",
       "</style>\n",
       "<table border=\"1\" class=\"dataframe\">\n",
       "  <thead>\n",
       "    <tr style=\"text-align: right;\">\n",
       "      <th></th>\n",
       "      <th>PCA_1</th>\n",
       "      <th>PCA_2</th>\n",
       "      <th>Clusters</th>\n",
       "    </tr>\n",
       "  </thead>\n",
       "  <tbody>\n",
       "    <tr>\n",
       "      <th>0</th>\n",
       "      <td>312.575688</td>\n",
       "      <td>22.912587</td>\n",
       "      <td>1</td>\n",
       "    </tr>\n",
       "    <tr>\n",
       "      <th>1</th>\n",
       "      <td>297.138425</td>\n",
       "      <td>-3.873898</td>\n",
       "      <td>1</td>\n",
       "    </tr>\n",
       "    <tr>\n",
       "      <th>2</th>\n",
       "      <td>432.102248</td>\n",
       "      <td>-5.069548</td>\n",
       "      <td>1</td>\n",
       "    </tr>\n",
       "    <tr>\n",
       "      <th>3</th>\n",
       "      <td>727.274192</td>\n",
       "      <td>2.012512</td>\n",
       "      <td>1</td>\n",
       "    </tr>\n",
       "    <tr>\n",
       "      <th>4</th>\n",
       "      <td>-17.555959</td>\n",
       "      <td>19.479330</td>\n",
       "      <td>0</td>\n",
       "    </tr>\n",
       "    <tr>\n",
       "      <th>5</th>\n",
       "      <td>697.265977</td>\n",
       "      <td>1.476797</td>\n",
       "      <td>1</td>\n",
       "    </tr>\n",
       "    <tr>\n",
       "      <th>6</th>\n",
       "      <td>537.020175</td>\n",
       "      <td>-11.864553</td>\n",
       "      <td>1</td>\n",
       "    </tr>\n",
       "    <tr>\n",
       "      <th>7</th>\n",
       "      <td>542.424246</td>\n",
       "      <td>13.032673</td>\n",
       "      <td>1</td>\n",
       "    </tr>\n",
       "    <tr>\n",
       "      <th>8</th>\n",
       "      <td>292.080384</td>\n",
       "      <td>-6.729393</td>\n",
       "      <td>1</td>\n",
       "    </tr>\n",
       "    <tr>\n",
       "      <th>9</th>\n",
       "      <td>292.091754</td>\n",
       "      <td>-5.662908</td>\n",
       "      <td>1</td>\n",
       "    </tr>\n",
       "  </tbody>\n",
       "</table>\n",
       "</div>"
      ],
      "text/plain": [
       "        PCA_1      PCA_2  Clusters\n",
       "0  312.575688  22.912587         1\n",
       "1  297.138425  -3.873898         1\n",
       "2  432.102248  -5.069548         1\n",
       "3  727.274192   2.012512         1\n",
       "4  -17.555959  19.479330         0\n",
       "5  697.265977   1.476797         1\n",
       "6  537.020175 -11.864553         1\n",
       "7  542.424246  13.032673         1\n",
       "8  292.080384  -6.729393         1\n",
       "9  292.091754  -5.662908         1"
      ]
     },
     "execution_count": 11,
     "metadata": {},
     "output_type": "execute_result"
    }
   ],
   "source": [
    "pca_df = pd.DataFrame(pca_data, columns = ['PCA_1', 'PCA_2'])\n",
    "pca_df['Clusters'] = y_kmeans\n",
    "pca_df.head(10)"
   ]
  },
  {
   "cell_type": "code",
   "execution_count": 18,
   "id": "fdc12df0",
   "metadata": {},
   "outputs": [],
   "source": [
    "#PCA Centroids\n",
    "centroids = kmeans.cluster_centers_\n",
    "pca_centroids = pca.transform(centroids)"
   ]
  },
  {
   "cell_type": "code",
   "execution_count": 26,
   "id": "ec172e7b",
   "metadata": {},
   "outputs": [
    {
     "data": {
      "image/png": "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\n",
      "text/plain": [
       "<Figure size 432x288 with 1 Axes>"
      ]
     },
     "metadata": {
      "needs_background": "light"
     },
     "output_type": "display_data"
    }
   ],
   "source": [
    "#Visualization using the PCA plot\n",
    "x = pca_df['PCA_1']\n",
    "y = pca_df['PCA_2']\n",
    "cluster = pca_df['Clusters']\n",
    "\n",
    "pca_x = pca_centroids[:,0]\n",
    "pca_y = pca_centroids[:,1]\n",
    "\n",
    "\n",
    "plt.scatter(x,y, c = cluster )\n",
    "plt.scatter(pca_x, pca_y, marker = 'P', color = 'red', s = 250, zorder = 10)\n",
    "plt.xlabel('PCA 1')\n",
    "plt.ylabel('PCA 2')\n",
    "plt.show()"
   ]
  }
 ],
 "metadata": {
  "kernelspec": {
   "display_name": "Python 3",
   "language": "python",
   "name": "python3"
  },
  "language_info": {
   "codemirror_mode": {
    "name": "ipython",
    "version": 3
   },
   "file_extension": ".py",
   "mimetype": "text/x-python",
   "name": "python",
   "nbconvert_exporter": "python",
   "pygments_lexer": "ipython3",
   "version": "3.8.10"
  }
 },
 "nbformat": 4,
 "nbformat_minor": 5
}
