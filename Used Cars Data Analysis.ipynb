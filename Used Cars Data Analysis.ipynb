{
 "cells": [
  {
   "cell_type": "code",
   "execution_count": 1,
   "id": "8b22eb75",
   "metadata": {},
   "outputs": [],
   "source": [
    "import pandas as pd\n",
    "import numpy as np\n",
    "import seaborn as sns\n",
    "import matplotlib.pyplot as plt"
   ]
  },
  {
   "cell_type": "code",
   "execution_count": 2,
   "id": "1d8ca0a9",
   "metadata": {
    "scrolled": true
   },
   "outputs": [
    {
     "data": {
      "text/html": [
       "<div>\n",
       "<style scoped>\n",
       "    .dataframe tbody tr th:only-of-type {\n",
       "        vertical-align: middle;\n",
       "    }\n",
       "\n",
       "    .dataframe tbody tr th {\n",
       "        vertical-align: top;\n",
       "    }\n",
       "\n",
       "    .dataframe thead th {\n",
       "        text-align: right;\n",
       "    }\n",
       "</style>\n",
       "<table border=\"1\" class=\"dataframe\">\n",
       "  <thead>\n",
       "    <tr style=\"text-align: right;\">\n",
       "      <th></th>\n",
       "      <th>brand</th>\n",
       "      <th>year</th>\n",
       "      <th>km_driven</th>\n",
       "      <th>fuel</th>\n",
       "      <th>seller_type</th>\n",
       "      <th>transmission</th>\n",
       "      <th>owner</th>\n",
       "      <th>mileage(kmpl)</th>\n",
       "      <th>engine(cc)</th>\n",
       "      <th>max_power(bhp)</th>\n",
       "      <th>seats</th>\n",
       "      <th>selling_price</th>\n",
       "    </tr>\n",
       "  </thead>\n",
       "  <tbody>\n",
       "    <tr>\n",
       "      <th>0</th>\n",
       "      <td>Maruti</td>\n",
       "      <td>2014</td>\n",
       "      <td>145500</td>\n",
       "      <td>Diesel</td>\n",
       "      <td>Individual</td>\n",
       "      <td>Manual</td>\n",
       "      <td>First Owner</td>\n",
       "      <td>23.40</td>\n",
       "      <td>1248.0</td>\n",
       "      <td>74.00</td>\n",
       "      <td>5.0</td>\n",
       "      <td>450000</td>\n",
       "    </tr>\n",
       "    <tr>\n",
       "      <th>1</th>\n",
       "      <td>Skoda</td>\n",
       "      <td>2014</td>\n",
       "      <td>120000</td>\n",
       "      <td>Diesel</td>\n",
       "      <td>Individual</td>\n",
       "      <td>Manual</td>\n",
       "      <td>Second Owner</td>\n",
       "      <td>21.14</td>\n",
       "      <td>1498.0</td>\n",
       "      <td>103.52</td>\n",
       "      <td>5.0</td>\n",
       "      <td>370000</td>\n",
       "    </tr>\n",
       "    <tr>\n",
       "      <th>2</th>\n",
       "      <td>Honda</td>\n",
       "      <td>2006</td>\n",
       "      <td>140000</td>\n",
       "      <td>Petrol</td>\n",
       "      <td>Individual</td>\n",
       "      <td>Manual</td>\n",
       "      <td>Third Owner</td>\n",
       "      <td>17.70</td>\n",
       "      <td>1497.0</td>\n",
       "      <td>78.00</td>\n",
       "      <td>5.0</td>\n",
       "      <td>158000</td>\n",
       "    </tr>\n",
       "    <tr>\n",
       "      <th>3</th>\n",
       "      <td>Hyundai</td>\n",
       "      <td>2010</td>\n",
       "      <td>127000</td>\n",
       "      <td>Diesel</td>\n",
       "      <td>Individual</td>\n",
       "      <td>Manual</td>\n",
       "      <td>First Owner</td>\n",
       "      <td>23.00</td>\n",
       "      <td>1396.0</td>\n",
       "      <td>90.00</td>\n",
       "      <td>5.0</td>\n",
       "      <td>225000</td>\n",
       "    </tr>\n",
       "    <tr>\n",
       "      <th>4</th>\n",
       "      <td>Maruti</td>\n",
       "      <td>2007</td>\n",
       "      <td>120000</td>\n",
       "      <td>Petrol</td>\n",
       "      <td>Individual</td>\n",
       "      <td>Manual</td>\n",
       "      <td>First Owner</td>\n",
       "      <td>16.10</td>\n",
       "      <td>1298.0</td>\n",
       "      <td>88.20</td>\n",
       "      <td>5.0</td>\n",
       "      <td>130000</td>\n",
       "    </tr>\n",
       "  </tbody>\n",
       "</table>\n",
       "</div>"
      ],
      "text/plain": [
       "     brand  year  km_driven    fuel seller_type transmission         owner  \\\n",
       "0   Maruti  2014     145500  Diesel  Individual       Manual   First Owner   \n",
       "1    Skoda  2014     120000  Diesel  Individual       Manual  Second Owner   \n",
       "2    Honda  2006     140000  Petrol  Individual       Manual   Third Owner   \n",
       "3  Hyundai  2010     127000  Diesel  Individual       Manual   First Owner   \n",
       "4   Maruti  2007     120000  Petrol  Individual       Manual   First Owner   \n",
       "\n",
       "   mileage(kmpl)  engine(cc)  max_power(bhp)  seats  selling_price  \n",
       "0          23.40      1248.0           74.00    5.0         450000  \n",
       "1          21.14      1498.0          103.52    5.0         370000  \n",
       "2          17.70      1497.0           78.00    5.0         158000  \n",
       "3          23.00      1396.0           90.00    5.0         225000  \n",
       "4          16.10      1298.0           88.20    5.0         130000  "
      ]
     },
     "execution_count": 2,
     "metadata": {},
     "output_type": "execute_result"
    }
   ],
   "source": [
    "df = pd.read_csv('used_car_clean.csv')\n",
    "df.head()"
   ]
  },
  {
   "cell_type": "code",
   "execution_count": 3,
   "id": "59d90e50",
   "metadata": {},
   "outputs": [
    {
     "data": {
      "text/plain": [
       "brand\n",
       "Lexus            5.150000e+06\n",
       "BMW              4.109917e+06\n",
       "Land             3.608333e+06\n",
       "Volvo            3.272015e+06\n",
       "Jaguar           2.915465e+06\n",
       "Audi             2.612200e+06\n",
       "Mercedes-Benz    2.470444e+06\n",
       "Jeep             2.149613e+06\n",
       "Isuzu            1.942000e+06\n",
       "MG               1.783333e+06\n",
       "Kia              1.504500e+06\n",
       "Name: selling_price, dtype: float64"
      ]
     },
     "execution_count": 3,
     "metadata": {},
     "output_type": "execute_result"
    }
   ],
   "source": [
    "df.groupby('brand').mean().sort_values(by = 'selling_price', ascending = False).iloc[0:11, -1]"
   ]
  },
  {
   "cell_type": "markdown",
   "id": "385a23ec",
   "metadata": {},
   "source": [
    "##### Evaluate how each categorical features are correlated to the selling_price \n",
    "    * We can use these information when encoding these categorical variables to avoid a sprase matrix from onehotencoding"
   ]
  },
  {
   "cell_type": "code",
   "execution_count": 4,
   "id": "40b56aa0",
   "metadata": {},
   "outputs": [
    {
     "data": {
      "text/plain": [
       "seller_type\n",
       "Dealer              1443493\n",
       "Trustmark Dealer     801838\n",
       "Individual           498626\n",
       "Name: selling_price, dtype: int32"
      ]
     },
     "execution_count": 4,
     "metadata": {},
     "output_type": "execute_result"
    }
   ],
   "source": [
    "df.groupby('seller_type').mean().sort_values(by = 'selling_price', ascending = False).iloc[0:10, -1].astype('int')"
   ]
  },
  {
   "cell_type": "code",
   "execution_count": 5,
   "id": "a1274841",
   "metadata": {},
   "outputs": [
    {
     "data": {
      "text/plain": [
       "fuel\n",
       "Diesel    791619\n",
       "Petrol    462441\n",
       "CNG       301017\n",
       "LPG       200421\n",
       "Name: selling_price, dtype: int32"
      ]
     },
     "execution_count": 5,
     "metadata": {},
     "output_type": "execute_result"
    }
   ],
   "source": [
    "df.groupby('fuel').mean().sort_values(by = 'selling_price', ascending = False).iloc[0:10, -1].astype('int')"
   ]
  },
  {
   "cell_type": "code",
   "execution_count": 6,
   "id": "395d3e85",
   "metadata": {},
   "outputs": [
    {
     "data": {
      "text/plain": [
       "transmission\n",
       "Automatic    1870827\n",
       "Manual        455482\n",
       "Name: selling_price, dtype: int32"
      ]
     },
     "execution_count": 6,
     "metadata": {},
     "output_type": "execute_result"
    }
   ],
   "source": [
    "df.groupby('transmission').mean().sort_values(by = 'selling_price', ascending = False).iloc[0:10, -1].astype('int')"
   ]
  },
  {
   "cell_type": "code",
   "execution_count": 7,
   "id": "723d7bd0",
   "metadata": {
    "scrolled": true
   },
   "outputs": [
    {
     "data": {
      "text/plain": [
       "owner\n",
       "Test Drive Car          4403800\n",
       "First Owner              783086\n",
       "Second Owner             392964\n",
       "Third Owner              284425\n",
       "Fourth & Above Owner     225813\n",
       "Name: selling_price, dtype: int32"
      ]
     },
     "execution_count": 7,
     "metadata": {},
     "output_type": "execute_result"
    }
   ],
   "source": [
    "df.groupby('owner').mean().sort_values(by = 'selling_price', ascending = False).iloc[0:10, -1].astype('int')"
   ]
  },
  {
   "cell_type": "markdown",
   "id": "4f1d7d0b",
   "metadata": {},
   "source": [
    "##### Brand Frequency Count, can be useful for \"hashing\"/addressing Curse of Dimensionality\n",
    "    1.) Converted freq count to % just for this analysis, to show what percentage of the total cars are from which what  \n",
    "    brand"
   ]
  },
  {
   "cell_type": "code",
   "execution_count": 8,
   "id": "22cf1a80",
   "metadata": {},
   "outputs": [
    {
     "data": {
      "text/html": [
       "<div>\n",
       "<style scoped>\n",
       "    .dataframe tbody tr th:only-of-type {\n",
       "        vertical-align: middle;\n",
       "    }\n",
       "\n",
       "    .dataframe tbody tr th {\n",
       "        vertical-align: top;\n",
       "    }\n",
       "\n",
       "    .dataframe thead th {\n",
       "        text-align: right;\n",
       "    }\n",
       "</style>\n",
       "<table border=\"1\" class=\"dataframe\">\n",
       "  <thead>\n",
       "    <tr style=\"text-align: right;\">\n",
       "      <th></th>\n",
       "      <th>brand</th>\n",
       "      <th>year</th>\n",
       "      <th>km_driven</th>\n",
       "      <th>fuel</th>\n",
       "      <th>seller_type</th>\n",
       "      <th>transmission</th>\n",
       "      <th>owner</th>\n",
       "      <th>mileage(kmpl)</th>\n",
       "      <th>engine(cc)</th>\n",
       "      <th>max_power(bhp)</th>\n",
       "      <th>seats</th>\n",
       "      <th>selling_price</th>\n",
       "      <th>brand_frequency_perc</th>\n",
       "    </tr>\n",
       "  </thead>\n",
       "  <tbody>\n",
       "    <tr>\n",
       "      <th>0</th>\n",
       "      <td>Maruti</td>\n",
       "      <td>2014</td>\n",
       "      <td>145500</td>\n",
       "      <td>Diesel</td>\n",
       "      <td>Individual</td>\n",
       "      <td>Manual</td>\n",
       "      <td>First Owner</td>\n",
       "      <td>23.40</td>\n",
       "      <td>1248.0</td>\n",
       "      <td>74.00</td>\n",
       "      <td>5.0</td>\n",
       "      <td>450000</td>\n",
       "      <td>0.301218</td>\n",
       "    </tr>\n",
       "    <tr>\n",
       "      <th>1</th>\n",
       "      <td>Skoda</td>\n",
       "      <td>2014</td>\n",
       "      <td>120000</td>\n",
       "      <td>Diesel</td>\n",
       "      <td>Individual</td>\n",
       "      <td>Manual</td>\n",
       "      <td>Second Owner</td>\n",
       "      <td>21.14</td>\n",
       "      <td>1498.0</td>\n",
       "      <td>103.52</td>\n",
       "      <td>5.0</td>\n",
       "      <td>370000</td>\n",
       "      <td>0.012920</td>\n",
       "    </tr>\n",
       "    <tr>\n",
       "      <th>2</th>\n",
       "      <td>Honda</td>\n",
       "      <td>2006</td>\n",
       "      <td>140000</td>\n",
       "      <td>Petrol</td>\n",
       "      <td>Individual</td>\n",
       "      <td>Manual</td>\n",
       "      <td>Third Owner</td>\n",
       "      <td>17.70</td>\n",
       "      <td>1497.0</td>\n",
       "      <td>78.00</td>\n",
       "      <td>5.0</td>\n",
       "      <td>158000</td>\n",
       "      <td>0.057463</td>\n",
       "    </tr>\n",
       "    <tr>\n",
       "      <th>3</th>\n",
       "      <td>Hyundai</td>\n",
       "      <td>2010</td>\n",
       "      <td>127000</td>\n",
       "      <td>Diesel</td>\n",
       "      <td>Individual</td>\n",
       "      <td>Manual</td>\n",
       "      <td>First Owner</td>\n",
       "      <td>23.00</td>\n",
       "      <td>1396.0</td>\n",
       "      <td>90.00</td>\n",
       "      <td>5.0</td>\n",
       "      <td>225000</td>\n",
       "      <td>0.174111</td>\n",
       "    </tr>\n",
       "    <tr>\n",
       "      <th>4</th>\n",
       "      <td>Maruti</td>\n",
       "      <td>2007</td>\n",
       "      <td>120000</td>\n",
       "      <td>Petrol</td>\n",
       "      <td>Individual</td>\n",
       "      <td>Manual</td>\n",
       "      <td>First Owner</td>\n",
       "      <td>16.10</td>\n",
       "      <td>1298.0</td>\n",
       "      <td>88.20</td>\n",
       "      <td>5.0</td>\n",
       "      <td>130000</td>\n",
       "      <td>0.301218</td>\n",
       "    </tr>\n",
       "  </tbody>\n",
       "</table>\n",
       "</div>"
      ],
      "text/plain": [
       "     brand  year  km_driven    fuel seller_type transmission         owner  \\\n",
       "0   Maruti  2014     145500  Diesel  Individual       Manual   First Owner   \n",
       "1    Skoda  2014     120000  Diesel  Individual       Manual  Second Owner   \n",
       "2    Honda  2006     140000  Petrol  Individual       Manual   Third Owner   \n",
       "3  Hyundai  2010     127000  Diesel  Individual       Manual   First Owner   \n",
       "4   Maruti  2007     120000  Petrol  Individual       Manual   First Owner   \n",
       "\n",
       "   mileage(kmpl)  engine(cc)  max_power(bhp)  seats  selling_price  \\\n",
       "0          23.40      1248.0           74.00    5.0         450000   \n",
       "1          21.14      1498.0          103.52    5.0         370000   \n",
       "2          17.70      1497.0           78.00    5.0         158000   \n",
       "3          23.00      1396.0           90.00    5.0         225000   \n",
       "4          16.10      1298.0           88.20    5.0         130000   \n",
       "\n",
       "   brand_frequency_perc  \n",
       "0              0.301218  \n",
       "1              0.012920  \n",
       "2              0.057463  \n",
       "3              0.174111  \n",
       "4              0.301218  "
      ]
     },
     "execution_count": 8,
     "metadata": {},
     "output_type": "execute_result"
    }
   ],
   "source": [
    "brand_mapping = df['brand'].value_counts().to_dict()\n",
    "df['brand_frequency_perc'] = df['brand'].map(brand_mapping) / 8127\n",
    "df.head()"
   ]
  },
  {
   "cell_type": "code",
   "execution_count": 9,
   "id": "759d254b",
   "metadata": {},
   "outputs": [
    {
     "data": {
      "text/plain": [
       "1.0"
      ]
     },
     "execution_count": 9,
     "metadata": {},
     "output_type": "execute_result"
    }
   ],
   "source": [
    "most_brands = df.groupby('brand').max().sort_values(by = 'brand_frequency_perc', ascending = False).iloc[0:31, -1]\n",
    "sum(most_brands)"
   ]
  },
  {
   "cell_type": "code",
   "execution_count": 10,
   "id": "1a53320b",
   "metadata": {},
   "outputs": [
    {
     "data": {
      "text/plain": [
       "31"
      ]
     },
     "execution_count": 10,
     "metadata": {},
     "output_type": "execute_result"
    }
   ],
   "source": [
    "df['brand'].nunique()"
   ]
  },
  {
   "cell_type": "code",
   "execution_count": 11,
   "id": "a3de1e88",
   "metadata": {},
   "outputs": [
    {
     "data": {
      "text/plain": [
       "array([3.01218162e-01, 1.74110988e-01, 9.49920020e-02, 9.03162299e-02,\n",
       "       6.00467577e-02, 5.74627784e-02, 4.88495140e-02, 2.83007260e-02,\n",
       "       2.80546327e-02, 2.28866740e-02, 1.47655962e-02, 1.29198966e-02,\n",
       "       9.96677741e-03, 8.73631106e-03, 8.24412452e-03, 7.99803125e-03,\n",
       "       6.64451827e-03, 5.78319183e-03, 4.92186539e-03, 4.18358558e-03,\n",
       "       3.81444567e-03, 1.72265289e-03, 7.38279808e-04, 7.38279808e-04,\n",
       "       6.15233173e-04, 4.92186539e-04, 4.92186539e-04, 3.69139904e-04,\n",
       "       3.69139904e-04, 1.23046635e-04, 1.23046635e-04])"
      ]
     },
     "execution_count": 11,
     "metadata": {},
     "output_type": "execute_result"
    }
   ],
   "source": [
    "most_brands.values"
   ]
  },
  {
   "cell_type": "markdown",
   "id": "85eb4ebe",
   "metadata": {},
   "source": [
    "##### Data Visualization\n",
    "    1.) 10 highest averages by Brand\n",
    "    2.) 10 lowest averages by Brand\n",
    "    3.) Most frequent brand (top 15/31 already represents 96% of total cars, 20/31 - 99%)"
   ]
  },
  {
   "cell_type": "code",
   "execution_count": 12,
   "id": "20a1c4d4",
   "metadata": {},
   "outputs": [
    {
     "data": {
      "image/png": "[encoded data removed]",
      "text/plain": [
       "<Figure size 432x288 with 1 Axes>"
      ]
     },
     "metadata": {
      "needs_background": "light"
     },
     "output_type": "display_data"
    }
   ],
   "source": [
    "x = df.groupby('brand').mean().sort_values(by = 'selling_price', ascending = False).index[0:11]\n",
    "y = df.groupby('brand').mean().sort_values(by = 'selling_price', ascending = False).iloc[0:11, -1]\n",
    "\n",
    "plt.bar(x, y)\n",
    "plt.title('Highest Average Price by brand')\n",
    "plt.xlabel('Brands')\n",
    "plt.ylabel('Average Price')\n",
    "plt.ticklabel_format(style = 'sci', axis = 'y')\n",
    "plt.xticks(x, rotation = 'vertical')\n",
    "plt.show()"
   ]
  },
  {
   "cell_type": "code",
   "execution_count": 13,
   "id": "e5ad0db9",
   "metadata": {},
   "outputs": [
    {
     "data": {
      "image/png": "[encoded data removed]",
      "text/plain": [
       "<Figure size 432x288 with 1 Axes>"
      ]
     },
     "metadata": {
      "needs_background": "light"
     },
     "output_type": "display_data"
    }
   ],
   "source": [
    "x = df.groupby('brand').mean().sort_values(by = 'selling_price', ascending = False).index[-10:]\n",
    "y = df.groupby('brand').mean().sort_values(by = 'selling_price', ascending = False).iloc[-10:, -1]\n",
    "\n",
    "plt.bar(x, y)\n",
    "plt.title('Lowest Average Price by brand')\n",
    "plt.xlabel('Brands')\n",
    "plt.ylabel('Average Price in ($)')\n",
    "plt.ticklabel_format(style = 'scientific', axis = 'y')\n",
    "plt.xticks(x, rotation = 'vertical')\n",
    "plt.show()"
   ]
  },
  {
   "cell_type": "code",
   "execution_count": 37,
   "id": "55a99123",
   "metadata": {},
   "outputs": [
    {
     "data": {
      "image/png": "[encoded data removed]",
      "text/plain": [
       "<Figure size 432x288 with 1 Axes>"
      ]
     },
     "metadata": {},
     "output_type": "display_data"
    }
   ],
   "source": [
    "brand_w_others = most_brands[0:7]\n",
    "brand_w_others['Others'] =  sum(most_brands[7:].values)\n",
    "names = brand_w_others.index\n",
    "values = brand_w_others.values\n",
    "\n",
    "plt.pie(x = values, labels = names, radius = 1.5, autopct = '%0.1f%%')\n",
    "plt.title('Percentage from total # of cars for sale\\n\\n')\n",
    "plt.show()"
   ]
  }
 ],
 "metadata": {
  "kernelspec": {
   "display_name": "Python 3",
   "language": "python",
   "name": "python3"
  },
  "language_info": {
   "codemirror_mode": {
    "name": "ipython",
    "version": 3
   },
   "file_extension": ".py",
   "mimetype": "text/x-python",
   "name": "python",
   "nbconvert_exporter": "python",
   "pygments_lexer": "ipython3",
   "version": "3.8.10"
  }
 },
 "nbformat": 4,
 "nbformat_minor": 5
}
