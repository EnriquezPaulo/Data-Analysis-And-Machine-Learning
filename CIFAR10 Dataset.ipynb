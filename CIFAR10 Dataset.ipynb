{
 "cells": [
  {
   "cell_type": "markdown",
   "id": "890832f0",
   "metadata": {},
   "source": [
    "# Do the MNIST using CNN, very easy just add convolution and pooling layers "
   ]
  },
  {
   "cell_type": "code",
   "execution_count": 1,
   "id": "23a723e6",
   "metadata": {},
   "outputs": [],
   "source": [
    "import tensorflow as tf\n",
    "import pandas as pd\n",
    "import numpy as np\n",
    "from tensorflow.keras import datasets, layers, models\n",
    "import matplotlib.pyplot as plt\n",
    "from keras.preprocessing.image import ImageDataGenerator\n",
    "\n",
    "import ssl\n",
    "ssl._create_default_https_context = ssl._create_unverified_context"
   ]
  },
  {
   "cell_type": "code",
   "execution_count": 2,
   "id": "2d6efd53",
   "metadata": {
    "scrolled": true
   },
   "outputs": [
    {
     "name": "stdout",
     "output_type": "stream",
     "text": [
      "x_train shape: (50000, 32, 32, 3) \n",
      "\n",
      "x_test shape: (10000, 32, 32, 3) \n",
      "\n"
     ]
    }
   ],
   "source": [
    "(x_train, y_train), (x_test,y_test) = datasets.cifar10.load_data()\n",
    "print(f'x_train shape: {x_train.shape} \\n')\n",
    "print(f'x_test shape: {x_test.shape} \\n')"
   ]
  },
  {
   "cell_type": "code",
   "execution_count": 3,
   "id": "f57da505",
   "metadata": {},
   "outputs": [
    {
     "data": {
      "text/plain": [
       "array([6, 9, 9, 4, 1], dtype=uint8)"
      ]
     },
     "execution_count": 3,
     "metadata": {},
     "output_type": "execute_result"
    }
   ],
   "source": [
    "#for verification\n",
    "classes = [\"airplane\",\"automobile\",\"bird\",\"cat\",\"deer\",\"dog\",\"frog\",\"horse\",\"ship\",\"truck\"]\n",
    "\n",
    "#reshape y_train to a 1D array to match the array above\n",
    "y_train = y_train.reshape(-1, )\n",
    "y_test = y_test.reshape(-1, )\n",
    "y_train[:5]"
   ]
  },
  {
   "cell_type": "code",
   "execution_count": 4,
   "id": "5bc89b6f",
   "metadata": {},
   "outputs": [],
   "source": [
    "#Function to plot image\n",
    "def plot_sample(x, y, index):\n",
    "    plt.figure(figsize = (15,2))\n",
    "    plt.imshow(x[index])\n",
    "    plt.xlabel(classes[y[index]])"
   ]
  },
  {
   "cell_type": "code",
   "execution_count": 5,
   "id": "eb7b981a",
   "metadata": {},
   "outputs": [
    {
     "data": {
      "image/png": "[encoded data removed]",
      "text/plain": [
       "<Figure size 1080x144 with 1 Axes>"
      ]
     },
     "metadata": {
      "needs_background": "light"
     },
     "output_type": "display_data"
    }
   ],
   "source": [
    "plot_sample(x_train, y_train, 69)"
   ]
  },
  {
   "cell_type": "code",
   "execution_count": 6,
   "id": "050e10f5",
   "metadata": {},
   "outputs": [],
   "source": [
    "#Scaling both x_train and x_test by dividing by 255\n",
    "x_train = x_train / 255\n",
    "x_test = x_test / 255"
   ]
  },
  {
   "cell_type": "code",
   "execution_count": 7,
   "id": "f2beee1a",
   "metadata": {},
   "outputs": [
    {
     "data": {
      "text/plain": [
       "(50000, 32, 32, 3)"
      ]
     },
     "execution_count": 7,
     "metadata": {},
     "output_type": "execute_result"
    }
   ],
   "source": [
    "x_train.shape"
   ]
  },
  {
   "cell_type": "code",
   "execution_count": 8,
   "id": "730d2ef1",
   "metadata": {},
   "outputs": [],
   "source": [
    "cnn = tf.keras.models.Sequential([\n",
    "    #CNN layer\n",
    "        layers.Conv2D(filters = 32, kernel_size = (3,3), input_shape = (32,32,3), activation = 'relu'),\n",
    "        layers.MaxPool2D(pool_size = (2,2)),\n",
    "        layers.Conv2D(filters = 32, kernel_size = (3,3), activation = 'relu'),\n",
    "        layers.MaxPool2D(pool_size = (2,2)),\n",
    "    \n",
    "    #dense layer\n",
    "        layers.Flatten(),\n",
    "        layers.Dense(units = 64, activation = 'relu'),\n",
    "        layers.Dense(units = 10, activation = 'softmax')\n",
    "        ]\n",
    ")"
   ]
  },
  {
   "cell_type": "code",
   "execution_count": 9,
   "id": "2fba110e",
   "metadata": {},
   "outputs": [],
   "source": [
    "#if save_weights_only = False -> will save the whole model, including architecture\n",
    "save_callback = tf.keras.callbacks.ModelCheckpoint(\n",
    "    'model_checkpoints/cifar10',\n",
    "    save_weights_only = True,\n",
    "    monitor = 'accuracy',\n",
    "    save_best_only = True\n",
    ")"
   ]
  },
  {
   "cell_type": "code",
   "execution_count": 10,
   "id": "0f782d36",
   "metadata": {},
   "outputs": [],
   "source": [
    "#Compile \n",
    "cnn.compile(optimizer = 'adam', loss = 'sparse_categorical_crossentropy', metrics = ['accuracy']) "
   ]
  },
  {
   "cell_type": "code",
   "execution_count": 11,
   "id": "83ab6ad4",
   "metadata": {
    "scrolled": true
   },
   "outputs": [
    {
     "name": "stdout",
     "output_type": "stream",
     "text": [
      "Epoch 1/15\n",
      "1563/1563 [==============================] - 20s 13ms/step - loss: 1.4951 - accuracy: 0.4593\n",
      "Epoch 2/15\n",
      "1563/1563 [==============================] - 20s 13ms/step - loss: 1.1702 - accuracy: 0.5868\n",
      "Epoch 3/15\n",
      "1563/1563 [==============================] - 19s 12ms/step - loss: 1.0428 - accuracy: 0.6344\n",
      "Epoch 4/15\n",
      "1563/1563 [==============================] - 18s 12ms/step - loss: 0.9709 - accuracy: 0.6626\n",
      "Epoch 5/15\n",
      "1563/1563 [==============================] - 18s 12ms/step - loss: 0.9076 - accuracy: 0.6823\n",
      "Epoch 6/15\n",
      "1563/1563 [==============================] - 18s 12ms/step - loss: 0.8631 - accuracy: 0.6986\n",
      "Epoch 7/15\n",
      "1563/1563 [==============================] - 18s 12ms/step - loss: 0.8227 - accuracy: 0.7123\n",
      "Epoch 8/15\n",
      "1563/1563 [==============================] - 18s 12ms/step - loss: 0.7880 - accuracy: 0.7233\n",
      "Epoch 9/15\n",
      "1563/1563 [==============================] - 18s 12ms/step - loss: 0.7563 - accuracy: 0.7331\n",
      "Epoch 10/15\n",
      "1563/1563 [==============================] - 18s 12ms/step - loss: 0.7308 - accuracy: 0.7425\n",
      "Epoch 11/15\n",
      "1563/1563 [==============================] - 18s 12ms/step - loss: 0.7006 - accuracy: 0.7530\n",
      "Epoch 12/15\n",
      "1563/1563 [==============================] - 18s 12ms/step - loss: 0.6797 - accuracy: 0.7616\n",
      "Epoch 13/15\n",
      "1563/1563 [==============================] - 18s 12ms/step - loss: 0.6563 - accuracy: 0.7686\n",
      "Epoch 14/15\n",
      "1563/1563 [==============================] - 19s 12ms/step - loss: 0.6370 - accuracy: 0.7740\n",
      "Epoch 15/15\n",
      "1563/1563 [==============================] - 18s 11ms/step - loss: 0.6119 - accuracy: 0.7848\n"
     ]
    },
    {
     "data": {
      "text/plain": [
       "<keras.callbacks.History at 0x28181378c10>"
      ]
     },
     "execution_count": 11,
     "metadata": {},
     "output_type": "execute_result"
    }
   ],
   "source": [
    "cnn.fit(x = x_train, y = y_train, epochs = 15)"
   ]
  },
  {
   "cell_type": "code",
   "execution_count": 13,
   "id": "6f74c11e",
   "metadata": {},
   "outputs": [
    {
     "name": "stdout",
     "output_type": "stream",
     "text": [
      "INFO:tensorflow:Assets written to: model_checkpoints/cifar10/assets\n"
     ]
    }
   ],
   "source": [
    "cnn.save('model_checkpoints/cifar10/')\n",
    "#cnn.load_weights('model_checkpoints/cifar10/')"
   ]
  },
  {
   "cell_type": "code",
   "execution_count": 12,
   "id": "883212ff",
   "metadata": {},
   "outputs": [
    {
     "name": "stdout",
     "output_type": "stream",
     "text": [
      "Classification Report: \n",
      "               precision    recall  f1-score   support\n",
      "\n",
      "           0       0.72      0.74      0.73      1000\n",
      "           1       0.77      0.82      0.79      1000\n",
      "           2       0.52      0.63      0.57      1000\n",
      "           3       0.46      0.59      0.52      1000\n",
      "           4       0.66      0.58      0.62      1000\n",
      "           5       0.71      0.44      0.54      1000\n",
      "           6       0.75      0.77      0.76      1000\n",
      "           7       0.74      0.74      0.74      1000\n",
      "           8       0.81      0.77      0.79      1000\n",
      "           9       0.78      0.75      0.76      1000\n",
      "\n",
      "    accuracy                           0.68     10000\n",
      "   macro avg       0.69      0.68      0.68     10000\n",
      "weighted avg       0.69      0.68      0.68     10000\n",
      "\n"
     ]
    }
   ],
   "source": [
    "#Classification Report\n",
    "\n",
    "from sklearn.metrics import confusion_matrix , classification_report\n",
    "import numpy as np\n",
    "y_pred = cnn.predict(x_test)\n",
    "y_pred_classes = [np.argmax(element) for element in y_pred]\n",
    "\n",
    "print(\"Classification Report: \\n\", classification_report(y_test, y_pred_classes))"
   ]
  },
  {
   "cell_type": "code",
   "execution_count": 20,
   "id": "f78f1cef",
   "metadata": {},
   "outputs": [
    {
     "data": {
      "image/png": "[encoded data removed]",
      "text/plain": [
       "<Figure size 1080x144 with 1 Axes>"
      ]
     },
     "metadata": {
      "needs_background": "light"
     },
     "output_type": "display_data"
    }
   ],
   "source": [
    "plot_sample(x_test, y_pred_classes, 45)"
   ]
  }
 ],
 "metadata": {
  "kernelspec": {
   "display_name": "Python 3",
   "language": "python",
   "name": "python3"
  },
  "language_info": {
   "codemirror_mode": {
    "name": "ipython",
    "version": 3
   },
   "file_extension": ".py",
   "mimetype": "text/x-python",
   "name": "python",
   "nbconvert_exporter": "python",
   "pygments_lexer": "ipython3",
   "version": "3.8.10"
  }
 },
 "nbformat": 4,
 "nbformat_minor": 5
}
